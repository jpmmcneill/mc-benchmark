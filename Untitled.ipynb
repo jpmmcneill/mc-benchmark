{
 "cells": [
  {
   "cell_type": "markdown",
   "id": "e034b6c7-f32b-4b11-a572-9b345a136c22",
   "metadata": {},
   "source": [
    "## Monte Carlo Benchmark"
   ]
  },
  {
   "cell_type": "markdown",
   "id": "0d66c614-4cdd-43cc-b867-191265ca0106",
   "metadata": {},
   "source": [
    "Experiment on the typical pi calculation using the area of a circle with radius 1, comparing the time for duckdb and numpy."
   ]
  },
  {
   "cell_type": "code",
   "execution_count": 158,
   "id": "e27c0298-2730-442d-9fdf-5c2b5f4bf7ea",
   "metadata": {},
   "outputs": [],
   "source": [
    "import numpy as np\n",
    "from numba import jit\n",
    "\n",
    "import numba\n",
    "import polars as pl\n",
    "import pandas as pd\n",
    "import duckdb\n",
    "\n",
    "from typing import NamedTuple"
   ]
  },
  {
   "cell_type": "code",
   "execution_count": 2,
   "id": "07a3d5b0-12ac-44ba-85b5-e6545274117d",
   "metadata": {},
   "outputs": [],
   "source": [
    "class Point(NamedTuple):\n",
    "    x: float\n",
    "    y: float\n",
    "\n",
    "    def in_circle(self):\n",
    "        return self.x**2 + self.y**2 <= 1\n",
    "\n",
    "    @classmethod\n",
    "    def random(cls):\n",
    "        return Point(x=np.random.uniform(-1, 1), y=np.random.uniform(-1, 1))\n",
    "\n",
    "    @staticmethod\n",
    "    def get_random_in_circle():\n",
    "        return Point.random().in_circle()"
   ]
  },
  {
   "cell_type": "code",
   "execution_count": 3,
   "id": "fcb6d69a-0784-4115-b168-635ae4c67418",
   "metadata": {},
   "outputs": [],
   "source": [
    "def pandas_calc_pi_class(sample_size):\n",
    "    df = pd.DataFrame(index = np.arange(sample_size))\n",
    "    df = df.reset_index()\n",
    "    df['in_circle'] = df[\"index\"].apply(lambda x: Point.get_random_in_circle())\n",
    "    return 4 * df[df.in_circle].shape[0] / df.shape[0]"
   ]
  },
  {
   "cell_type": "code",
   "execution_count": 4,
   "id": "ad736317-e921-46d3-a0d6-56ab449405a4",
   "metadata": {},
   "outputs": [],
   "source": [
    "def pandas_calc_pi_raw(sample_size):\n",
    "    df = pd.DataFrame(index = np.arange(sample_size))\n",
    "    df = df.reset_index()\n",
    "    df['in_circle'] = df[\"index\"].apply(lambda x: np.random.uniform()**2 + np.random.uniform()**2 <= 1)\n",
    "    return 4 * df[df.in_circle].shape[0] / df.shape[0]"
   ]
  },
  {
   "cell_type": "code",
   "execution_count": 168,
   "id": "15cc36b7-f579-4c42-9b00-f775cc026cb2",
   "metadata": {},
   "outputs": [
    {
     "name": "stdout",
     "output_type": "stream",
     "text": [
      "┌───────────────────────────┐                             \n",
      "│         PROJECTION        │                             \n",
      "│   ─ ─ ─ ─ ─ ─ ─ ─ ─ ─ ─   │                             \n",
      "│   (SUBQUERY + SUBQUERY)   │                             \n",
      "└─────────────┬─────────────┘                                                          \n",
      "┌─────────────┴─────────────┐                             \n",
      "│       CROSS_PRODUCT       ├──────────────┐              \n",
      "└─────────────┬─────────────┘              │                                           \n",
      "┌─────────────┴─────────────┐┌─────────────┴─────────────┐\n",
      "│    UNGROUPED_AGGREGATE    ││    UNGROUPED_AGGREGATE    │\n",
      "│   ─ ─ ─ ─ ─ ─ ─ ─ ─ ─ ─   ││   ─ ─ ─ ─ ─ ─ ─ ─ ─ ─ ─   │\n",
      "│         first(#0)         ││         first(#0)         │\n",
      "└─────────────┬─────────────┘└─────────────┬─────────────┘                             \n",
      "┌─────────────┴─────────────┐┌─────────────┴─────────────┐\n",
      "│         PROJECTION        ││         PROJECTION        │\n",
      "│   ─ ─ ─ ─ ─ ─ ─ ─ ─ ─ ─   ││   ─ ─ ─ ─ ─ ─ ─ ─ ─ ─ ─   │\n",
      "│             #0            ││             #0            │\n",
      "└─────────────┬─────────────┘└─────────────┬─────────────┘                             \n",
      "┌─────────────┴─────────────┐┌─────────────┴─────────────┐\n",
      "│      STREAMING_LIMIT      ││      STREAMING_LIMIT      │\n",
      "└─────────────┬─────────────┘└─────────────┬─────────────┘                             \n",
      "┌─────────────┴─────────────┐┌─────────────┴─────────────┐\n",
      "│    UNGROUPED_AGGREGATE    ││    UNGROUPED_AGGREGATE    │\n",
      "│   ─ ─ ─ ─ ─ ─ ─ ─ ─ ─ ─   ││   ─ ─ ─ ─ ─ ─ ─ ─ ─ ─ ─   │\n",
      "│        count_star()       ││        count_star()       │\n",
      "└─────────────┬─────────────┘└─────────────┬─────────────┘                             \n",
      "┌─────────────┴─────────────┐┌─────────────┴─────────────┐\n",
      "│           FILTER          ││           FILTER          │\n",
      "│   ─ ─ ─ ─ ─ ─ ─ ─ ─ ─ ─   ││   ─ ─ ─ ─ ─ ─ ─ ─ ─ ─ ─   │\n",
      "│       is_lower_half       ││    (NOT is_lower_half)    │\n",
      "│   ─ ─ ─ ─ ─ ─ ─ ─ ─ ─ ─   ││   ─ ─ ─ ─ ─ ─ ─ ─ ─ ─ ─   │\n",
      "│           EC: 10          ││           EC: 10          │\n",
      "└─────────────┬─────────────┘└─────────────┬─────────────┘                             \n",
      "┌─────────────┴─────────────┐┌─────────────┴─────────────┐\n",
      "│         PROJECTION        ││         PROJECTION        │\n",
      "│   ─ ─ ─ ─ ─ ─ ─ ─ ─ ─ ─   ││   ─ ─ ─ ─ ─ ─ ─ ─ ─ ─ ─   │\n",
      "│       is_lower_half       ││       is_lower_half       │\n",
      "└─────────────┬─────────────┘└─────────────┬─────────────┘                             \n",
      "┌─────────────┴─────────────┐┌─────────────┴─────────────┐\n",
      "│         PROJECTION        ││         PROJECTION        │\n",
      "│   ─ ─ ─ ─ ─ ─ ─ ─ ─ ─ ─   ││   ─ ─ ─ ─ ─ ─ ─ ─ ─ ─ ─   │\n",
      "│             0             ││             0             │\n",
      "└─────────────┬─────────────┘└─────────────┬─────────────┘                             \n",
      "┌─────────────┴─────────────┐┌─────────────┴─────────────┐\n",
      "│      GENERATE_SERIES      ││      GENERATE_SERIES      │\n",
      "│   ─ ─ ─ ─ ─ ─ ─ ─ ─ ─ ─   ││   ─ ─ ─ ─ ─ ─ ─ ─ ─ ─ ─   │\n",
      "│           EC: 10          ││           EC: 10          │\n",
      "└───────────────────────────┘└───────────────────────────┘                             \n",
      "\n",
      "\n"
     ]
    }
   ],
   "source": [
    "print(duckdb.sql(f\"\"\"\n",
    "        with a as (\n",
    "            select random() <= 0.5 as is_lower_half\n",
    "            from generate_series(9)\n",
    "        )\n",
    "\n",
    "        select (\n",
    "            select count(*) from a where is_lower_half\n",
    "        ) + (\n",
    "            select count(*) from a where not is_lower_half\n",
    "        )\n",
    "    \"\"\").explain())"
   ]
  },
  {
   "cell_type": "code",
   "execution_count": 166,
   "id": "3269f3fc-0e6a-4023-97b7-a03623565504",
   "metadata": {},
   "outputs": [
    {
     "data": {
      "text/plain": [
       "┌─────────────────────────────────────────────────────────────────────────────────────────────────────────────┐\n",
       "│ ((SELECT count_star() FROM a WHERE is_lower_half) + (SELECT count_star() FROM a WHERE (NOT is_lower_half))) │\n",
       "│                                                    int64                                                    │\n",
       "├─────────────────────────────────────────────────────────────────────────────────────────────────────────────┤\n",
       "│                                                                                                          12 │\n",
       "└─────────────────────────────────────────────────────────────────────────────────────────────────────────────┘"
      ]
     },
     "execution_count": 166,
     "metadata": {},
     "output_type": "execute_result"
    }
   ],
   "source": [
    "duckdb.sql(f\"\"\"\n",
    "with a as (\n",
    "    select random() <= 0.5 as is_lower_half\n",
    "    from generate_series(10)\n",
    ")\n",
    "\n",
    "select (\n",
    "    select count(*) from a where is_lower_half\n",
    ") + (\n",
    "    select count(*) from a where not is_lower_half\n",
    ")\n",
    "    \"\"\"\n",
    ")"
   ]
  },
  {
   "cell_type": "code",
   "execution_count": 161,
   "id": "d23edd78-5a44-4426-92dd-9f12b289641f",
   "metadata": {},
   "outputs": [
    {
     "name": "stdout",
     "output_type": "stream",
     "text": [
      "┌───────────────────────────┐\n",
      "│    UNGROUPED_AGGREGATE    │\n",
      "│   ─ ─ ─ ─ ─ ─ ─ ─ ─ ─ ─   │\n",
      "│        count_star()       │\n",
      "└─────────────┬─────────────┘                             \n",
      "┌─────────────┴─────────────┐\n",
      "│           FILTER          │\n",
      "│   ─ ─ ─ ─ ─ ─ ─ ─ ─ ─ ─   │\n",
      "│         in_circle         │\n",
      "│   ─ ─ ─ ─ ─ ─ ─ ─ ─ ─ ─   │\n",
      "│        EC: 10000000       │\n",
      "└─────────────┬─────────────┘                             \n",
      "┌─────────────┴─────────────┐\n",
      "│         PROJECTION        │\n",
      "│   ─ ─ ─ ─ ─ ─ ─ ─ ─ ─ ─   │\n",
      "│         in_circle         │\n",
      "└─────────────┬─────────────┘                             \n",
      "┌─────────────┴─────────────┐\n",
      "│         PROJECTION        │\n",
      "│   ─ ─ ─ ─ ─ ─ ─ ─ ─ ─ ─   │\n",
      "│             0             │\n",
      "└─────────────┬─────────────┘                             \n",
      "┌─────────────┴─────────────┐\n",
      "│      GENERATE_SERIES      │\n",
      "│   ─ ─ ─ ─ ─ ─ ─ ─ ─ ─ ─   │\n",
      "│        EC: 10000000       │\n",
      "└───────────────────────────┘                             \n",
      "\n",
      "\n"
     ]
    }
   ],
   "source": [
    "print(duckdb.sql(f\"\"\"\n",
    "        with a as (\n",
    "            select power(random(), 2) + power(random(), 2) <= 1 as in_circle\n",
    "            from generate_series(1, 10000000)\n",
    "        )\n",
    "\n",
    "        select count(*) from a where in_circle\n",
    "    \"\"\").explain())"
   ]
  },
  {
   "cell_type": "code",
   "execution_count": 130,
   "id": "fc0c80df-8fd2-4379-9640-53c335bf4844",
   "metadata": {},
   "outputs": [],
   "source": [
    "def numpy_randoms(sample_size):\n",
    "    x = np.random.rand(sample_size)\n",
    "    y = np.random.rand(sample_size)\n",
    "    return x**2 + y**2 < 1"
   ]
  },
  {
   "cell_type": "code",
   "execution_count": 131,
   "id": "3cae90e5-843d-431d-90ad-e66a444ee729",
   "metadata": {},
   "outputs": [],
   "source": [
    "def numpy_calc_pi(sample_size):\n",
    "    x = np.random.rand(sample_size)\n",
    "    y = np.random.rand(sample_size)\n",
    "    res = x**2 + y**2 < 1\n",
    "    return 4 * np.count_nonzero(res) / res.size"
   ]
  },
  {
   "cell_type": "code",
   "execution_count": 132,
   "id": "52aa0a8a-a157-4d1d-89b9-b49ad00c2304",
   "metadata": {},
   "outputs": [],
   "source": [
    "@jit(nopython=True, parallel=True, nogil=True)\n",
    "def numba_randoms(sample_size):\n",
    "    x = np.random.rand(sample_size)\n",
    "    y = np.random.rand(sample_size)\n",
    "    return x**2 + y**2 < 1"
   ]
  },
  {
   "cell_type": "code",
   "execution_count": 133,
   "id": "e0e0addb-de7e-4ca2-b779-392742e1f0f7",
   "metadata": {},
   "outputs": [],
   "source": [
    "@jit(nopython=True, parallel=True, nogil=True)\n",
    "def numba_calc_pi(sample_size):\n",
    "    x = np.random.rand(sample_size)\n",
    "    y = np.random.rand(sample_size)\n",
    "    res = x**2 + y**2 < 1\n",
    "    return 4 * np.count_nonzero(res) / res.size"
   ]
  },
  {
   "cell_type": "code",
   "execution_count": 134,
   "id": "bab6769e-703e-44f8-a9dd-07c1d8a5d9a7",
   "metadata": {},
   "outputs": [],
   "source": [
    "def duckdb_randoms(sample_size):\n",
    "    return duckdb.execute(f\"\"\"\n",
    "        select power(random(), 2) + power(random(), 2) <= 1 as in_circle\n",
    "        from generate_series(1, {sample_size})\n",
    "    \"\"\")"
   ]
  },
  {
   "cell_type": "code",
   "execution_count": 176,
   "id": "300ca6f3-7b62-41f0-ae36-50c9dba69005",
   "metadata": {},
   "outputs": [],
   "source": [
    "def duckdb_calc_pi(sample_size):\n",
    "    return duckdb.execute(f\"\"\"\n",
    "        with a as (\n",
    "            select power(random(), 2) + power(random(), 2) <= 1 as in_circle\n",
    "            from generate_series(1, {sample_size})\n",
    "        )\n",
    "\n",
    "        select 4 * sum(in_circle::int) / {sample_size} from a\n",
    "    \"\"\")"
   ]
  },
  {
   "cell_type": "markdown",
   "id": "5759348c-cd68-43fd-b903-8eadde124066",
   "metadata": {},
   "source": [
    "## only generating random values"
   ]
  },
  {
   "cell_type": "code",
   "execution_count": 143,
   "id": "cc21dd80-3a80-4809-802f-58fe46804c86",
   "metadata": {},
   "outputs": [],
   "source": [
    "sample = 10000000"
   ]
  },
  {
   "cell_type": "code",
   "execution_count": 144,
   "id": "fab5e344-7d91-4587-a15f-adfb96cdbfc9",
   "metadata": {},
   "outputs": [
    {
     "name": "stdout",
     "output_type": "stream",
     "text": [
      "77.1 ms ± 718 µs per loop (mean ± std. dev. of 7 runs, 10 loops each)\n"
     ]
    }
   ],
   "source": [
    "%%timeit\n",
    "numpy_randoms(sample)"
   ]
  },
  {
   "cell_type": "code",
   "execution_count": 145,
   "id": "9680f3b0-a9b8-4401-8dd6-2f81e07a20fa",
   "metadata": {},
   "outputs": [
    {
     "name": "stdout",
     "output_type": "stream",
     "text": [
      "6.51 ms ± 836 µs per loop (mean ± std. dev. of 7 runs, 100 loops each)\n"
     ]
    }
   ],
   "source": [
    "%%timeit\n",
    "numba_randoms(sample)"
   ]
  },
  {
   "cell_type": "code",
   "execution_count": 172,
   "id": "cd24a9b1-4d83-4ef1-bd2a-f0a5a3a44d3b",
   "metadata": {},
   "outputs": [
    {
     "name": "stdout",
     "output_type": "stream",
     "text": [
      "63.6 µs ± 1.21 µs per loop (mean ± std. dev. of 7 runs, 10,000 loops each)\n"
     ]
    }
   ],
   "source": [
    "%%timeit\n",
    "duckdb_randoms(sample)"
   ]
  },
  {
   "cell_type": "markdown",
   "id": "66bf795e-fdb5-4edd-b883-7c57db9ace91",
   "metadata": {},
   "source": [
    "## computing the result"
   ]
  },
  {
   "cell_type": "code",
   "execution_count": 147,
   "id": "e89fabb8-e5e0-49ab-ba02-52aa2a2e5c76",
   "metadata": {},
   "outputs": [
    {
     "name": "stdout",
     "output_type": "stream",
     "text": [
      "77.3 ms ± 369 µs per loop (mean ± std. dev. of 7 runs, 10 loops each)\n"
     ]
    }
   ],
   "source": [
    "%%timeit\n",
    "numpy_calc_pi(sample)"
   ]
  },
  {
   "cell_type": "code",
   "execution_count": 148,
   "id": "7df9b7d4-6a72-4853-8e6a-392746c7d60a",
   "metadata": {},
   "outputs": [
    {
     "name": "stdout",
     "output_type": "stream",
     "text": [
      "8.3 ms ± 392 µs per loop (mean ± std. dev. of 7 runs, 100 loops each)\n"
     ]
    }
   ],
   "source": [
    "%%timeit\n",
    "numba_calc_pi(sample)"
   ]
  },
  {
   "cell_type": "code",
   "execution_count": 178,
   "id": "2fde596c-f12b-4166-a565-f82376d1f1d3",
   "metadata": {},
   "outputs": [
    {
     "name": "stdout",
     "output_type": "stream",
     "text": [
      "202 ms ± 1.76 ms per loop (mean ± std. dev. of 7 runs, 1 loop each)\n"
     ]
    }
   ],
   "source": [
    "%%timeit\n",
    "duckdb_calc_pi(sample)"
   ]
  },
  {
   "cell_type": "code",
   "execution_count": 160,
   "id": "b5fc6f3a-8b0a-45c7-a9ce-24a735687fe0",
   "metadata": {},
   "outputs": [
    {
     "name": "stdout",
     "output_type": "stream",
     "text": [
      "numpy :  1.26.2\n",
      "numba :  0.58.1\n",
      "duckdb :  0.9.2\n"
     ]
    }
   ],
   "source": [
    "for lib in [np, numba, duckdb]:\n",
    "    print(lib.__name__, ': ', lib.__version__)"
   ]
  },
  {
   "cell_type": "markdown",
   "id": "8ec2c118-5dee-42d1-b73d-29ef34867a95",
   "metadata": {
    "jp-MarkdownHeadingCollapsed": true
   },
   "source": [
    "## Jupyter Indicitive Timing"
   ]
  },
  {
   "cell_type": "code",
   "execution_count": null,
   "id": "93164c5b-fe4a-4e9c-8515-11903e0e957b",
   "metadata": {},
   "outputs": [],
   "source": [
    "timing_sample = 10000"
   ]
  },
  {
   "cell_type": "code",
   "execution_count": null,
   "id": "371be737-e2e3-47e4-ae7d-029f6b1222da",
   "metadata": {},
   "outputs": [],
   "source": [
    "%%timeit\n",
    "pandas_calc_pi_class(timing_sample)"
   ]
  },
  {
   "cell_type": "code",
   "execution_count": null,
   "id": "54bbab20-2a6d-4ce6-88ae-a549dbd0f6fb",
   "metadata": {},
   "outputs": [],
   "source": [
    "%%timeit\n",
    "pandas_calc_pi_raw(timing_sample)"
   ]
  },
  {
   "cell_type": "code",
   "execution_count": null,
   "id": "69fff148-b7ca-478f-b8be-4be8f4124f0d",
   "metadata": {},
   "outputs": [],
   "source": [
    "%%timeit\n",
    "duckdb_calc_pi(timing_sample)"
   ]
  },
  {
   "cell_type": "markdown",
   "id": "04b57857-61a4-42e1-b3a0-fc524be2bc3e",
   "metadata": {
    "jp-MarkdownHeadingCollapsed": true
   },
   "source": [
    "## Analysis"
   ]
  },
  {
   "cell_type": "code",
   "execution_count": null,
   "id": "d14534e2-2170-4034-bf8e-b753e40cc5b3",
   "metadata": {},
   "outputs": [],
   "source": [
    "import timeit"
   ]
  },
  {
   "cell_type": "code",
   "execution_count": null,
   "id": "38dd6c72-8311-454f-b7ad-03d9ac0317d7",
   "metadata": {},
   "outputs": [],
   "source": [
    "pandas_timer = timeit.Timer('pandas_calc_pi_raw(10000)', 'from __main__ import pandas_calc_pi_raw')\n",
    "pandas_timer.autorange()"
   ]
  },
  {
   "cell_type": "code",
   "execution_count": null,
   "id": "ce243569-0691-4372-87fd-8f3e3eaa91f1",
   "metadata": {},
   "outputs": [],
   "source": [
    "duck_timer = timeit.Timer('duckdb_calc_pi(10000)', 'from __main__ import duckdb_calc_pi')\n",
    "duck_timer.autorange()"
   ]
  },
  {
   "cell_type": "code",
   "execution_count": null,
   "id": "bab477d1-c65d-438e-adf0-4cd30113c7a2",
   "metadata": {},
   "outputs": [],
   "source": [
    "numpy_timer = timeit.Timer('numpy_calc_pi(10000)', 'from __main__ import numpy_calc_pi')\n",
    "numpy_timer.autorange()"
   ]
  },
  {
   "cell_type": "code",
   "execution_count": null,
   "id": "074d4839-3c2a-428c-b859-0279a4782292",
   "metadata": {},
   "outputs": [],
   "source": [
    "class TimeWrapper:\n",
    "    def __init__(self, func, sample):\n",
    "        self.timer = timeit.Timer(f\"{func.__name__}({sample})\", f\"from __main__ import {func.__name__}\")\n",
    "\n",
    "    def get_time(self):\n",
    "        return self.timer.autorange()[1] / self.timer.autorange()[0]"
   ]
  },
  {
   "cell_type": "code",
   "execution_count": null,
   "id": "a995dbfe-d5db-4b51-a56c-71bf90bf1843",
   "metadata": {},
   "outputs": [],
   "source": [
    "TimeWrapper(duckdb_calc_pi, 10000).get_time()"
   ]
  },
  {
   "cell_type": "code",
   "execution_count": null,
   "id": "5bac57f4-f68d-4308-b599-3c6628d82889",
   "metadata": {},
   "outputs": [],
   "source": [
    "TimeWrapper(pandas_calc_pi_raw, 10000).get_time()"
   ]
  },
  {
   "cell_type": "code",
   "execution_count": null,
   "id": "be301018-1641-47b7-a1d9-ef232ce14278",
   "metadata": {},
   "outputs": [],
   "source": [
    "samples = [100000*i for i in range(1,30)]"
   ]
  },
  {
   "cell_type": "code",
   "execution_count": null,
   "id": "402ea3cf-2935-4fbf-8692-425927758d0a",
   "metadata": {},
   "outputs": [],
   "source": [
    "data = pd.DataFrame({'sample_size': samples})\n",
    "data[\"duckdb_time\"] = data.sample_size.apply(lambda x: TimeWrapper(duckdb_calc_pi, x).get_time())\n",
    "data[\"pandas_time\"] = data.sample_size.apply(lambda x: TimeWrapper(pandas_calc_pi_raw, x).get_time())"
   ]
  },
  {
   "cell_type": "code",
   "execution_count": null,
   "id": "9fa308a7-bc6f-4d91-8446-71fc0484a63e",
   "metadata": {},
   "outputs": [],
   "source": [
    "duckdb_data = data[[\"sample_size\", \"duckdb_time\"]].rename(columns={\"duckdb_time\": \"time\"})\n",
    "duckdb_data[\"type\"] = \"duckdb\"\n",
    "\n",
    "pandas_data = data[[\"sample_size\", \"pandas_time\"]].rename(columns={\"pandas_time\": \"time\"})\n",
    "pandas_data[\"type\"] = \"pandas\"\n",
    "reshaped_data = pd.concat([duckdb_data, pandas_data])"
   ]
  },
  {
   "cell_type": "code",
   "execution_count": null,
   "id": "a8c93823-87aa-492a-bbc4-00f0442779d7",
   "metadata": {},
   "outputs": [],
   "source": [
    "reshaped_data"
   ]
  },
  {
   "cell_type": "code",
   "execution_count": null,
   "id": "57f8ddc3-37ee-4d17-97dd-bbf351a9e334",
   "metadata": {},
   "outputs": [],
   "source": [
    "px.bar(\n",
    "    reshaped_data,\n",
    "    x=reshaped_data.sample_size,\n",
    "    y=reshaped_data.time,\n",
    "    facet_col=reshaped_data.type,\n",
    ")"
   ]
  },
  {
   "cell_type": "code",
   "execution_count": null,
   "id": "4251d331-d819-44e7-9518-d530ce815bbf",
   "metadata": {},
   "outputs": [],
   "source": [
    "fig"
   ]
  },
  {
   "cell_type": "code",
   "execution_count": null,
   "id": "80ec5ee3-3bc9-4ee7-8dbd-c62e37f36b98",
   "metadata": {},
   "outputs": [],
   "source": []
  }
 ],
 "metadata": {
  "kernelspec": {
   "display_name": "mc-benchmark",
   "language": "python",
   "name": "mc-benchmark"
  },
  "language_info": {
   "codemirror_mode": {
    "name": "ipython",
    "version": 3
   },
   "file_extension": ".py",
   "mimetype": "text/x-python",
   "name": "python",
   "nbconvert_exporter": "python",
   "pygments_lexer": "ipython3",
   "version": "3.9.6"
  }
 },
 "nbformat": 4,
 "nbformat_minor": 5
}
